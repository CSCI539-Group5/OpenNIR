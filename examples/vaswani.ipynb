{
 "cells": [
  {
   "cell_type": "code",
   "execution_count": 1,
   "id": "moved-lotus",
   "metadata": {
    "scrolled": true
   },
   "outputs": [],
   "source": [
    "import sys\n",
    "import os\n",
    "import shutil\n",
    "from collections import namedtuple\n",
    "sys.path.append('..') # assuming we're running from OpenNIR/examples/\n",
    "os.environ['ONIR_IGNORE_ARGV'] = 'true' # don't process command line arguments (they come from jupyter)"
   ]
  },
  {
   "cell_type": "code",
   "execution_count": 2,
   "id": "blond-synthetic",
   "metadata": {},
   "outputs": [
    {
     "name": "stdout",
     "output_type": "stream",
     "text": [
      "PyTerrier 0.3.1 has loaded Terrier 5.4 (built by craigm on 2021-01-16 14:17)\n",
      "Better speed can be achieved with apex installed from https://www.github.com/nvidia/apex.\n"
     ]
    }
   ],
   "source": [
    "import pandas as pd\n",
    "import pyterrier as pt\n",
    "if not pt.started():\n",
    "    pt.init(tqdm='notebook')\n",
    "import onir.pt"
   ]
  },
  {
   "cell_type": "code",
   "execution_count": 3,
   "id": "grateful-belfast",
   "metadata": {},
   "outputs": [
    {
     "name": "stdout",
     "output_type": "stream",
     "text": [
      "configuraiton file not found: config\n"
     ]
    }
   ],
   "source": [
    "# Sample EPIC re-ranker (trained on msmarco)\n",
    "rr = onir.pt.reranker.from_checkpoint('epic.msmarco.tar.gz', {'learning_rate': 1e-5})"
   ]
  },
  {
   "cell_type": "code",
   "execution_count": 4,
   "id": "radical-shopping",
   "metadata": {
    "scrolled": true
   },
   "outputs": [],
   "source": [
    "dataset = pt.datasets.get_dataset('irds:vaswani')\n",
    "index_path = './index_vaswani'\n",
    "if not os.path.exists(index_path):\n",
    "    indexer = pt.index.IterDictIndexer(index_path)\n",
    "    index_ref = indexer.index(dataset.get_corpus_iter(), meta=('docno', 'text'))\n",
    "else:\n",
    "    index_ref = pt.IndexRef.of(index_path + '/data.properties')\n",
    "index = pt.IndexFactory.of(index_ref)"
   ]
  },
  {
   "cell_type": "code",
   "execution_count": 5,
   "id": "fossil-crash",
   "metadata": {},
   "outputs": [],
   "source": [
    "BM25_br = pt.BatchRetrieve(index, wmodel=\"BM25\") % 100\n",
    "res = BM25_br.transform(dataset.get_topics())\n",
    "res_with_text = pt.text.get_text(index, \"text\").transform(res)"
   ]
  },
  {
   "cell_type": "code",
   "execution_count": 6,
   "id": "humanitarian-aggregate",
   "metadata": {},
   "outputs": [
    {
     "data": {
      "text/plain": [
       "{'map': 0.2725231249761632}"
      ]
     },
     "execution_count": 6,
     "metadata": {},
     "output_type": "execute_result"
    }
   ],
   "source": [
    "pt.Utils.evaluate(res, dataset.get_qrels(), metrics = ['map'])"
   ]
  },
  {
   "cell_type": "code",
   "execution_count": 7,
   "id": "alike-inclusion",
   "metadata": {
    "scrolled": true
   },
   "outputs": [
    {
     "name": "stdout",
     "output_type": "stream",
     "text": [
      "[2021-02-21 19:23:21,509][onir.pt][DEBUG] using GPU (deterministic)\n",
      "[2021-02-21 19:23:21,607][onir.pt][DEBUG] [starting] batches\n"
     ]
    },
    {
     "data": {
      "application/vnd.jupyter.widget-view+json": {
       "model_id": "",
       "version_major": 2,
       "version_minor": 0
      },
      "text/plain": [
       "HBox(children=(IntProgress(value=0, description='batches', layout=Layout(flex='2'), max=2325, style=ProgressSt…"
      ]
     },
     "metadata": {},
     "output_type": "display_data"
    },
    {
     "name": "stdout",
     "output_type": "stream",
     "text": [
      "[2021-02-21 19:24:37,860][onir.pt][DEBUG] [finished] batches: [01:16] [2325it] [30.49it/s]\n"
     ]
    }
   ],
   "source": [
    "epic_res = rr.transform(res_with_text)"
   ]
  },
  {
   "cell_type": "code",
   "execution_count": 8,
   "id": "documented-context",
   "metadata": {},
   "outputs": [
    {
     "data": {
      "text/plain": [
       "{'map': 0.22642311752488706}"
      ]
     },
     "execution_count": 8,
     "metadata": {},
     "output_type": "execute_result"
    }
   ],
   "source": [
    "pt.Utils.evaluate(epic_res, dataset.get_qrels(), metrics = ['map'])"
   ]
  },
  {
   "cell_type": "code",
   "execution_count": 9,
   "id": "drawn-decimal",
   "metadata": {},
   "outputs": [
    {
     "name": "stdout",
     "output_type": "stream",
     "text": [
      "[2021-02-21 19:24:37,924][onir.pt][DEBUG] using GPU (deterministic)\n",
      "[2021-02-21 19:24:37,929][onir.pt][DEBUG] [starting] training\n",
      "[2021-02-21 19:24:37,931][onir.pt][DEBUG] [starting] train pairs\n"
     ]
    },
    {
     "data": {
      "application/vnd.jupyter.widget-view+json": {
       "model_id": "",
       "version_major": 2,
       "version_minor": 0
      },
      "text/plain": [
       "HBox(children=(IntProgress(value=0, description='train pairs', layout=Layout(flex='2'), max=1024, style=Progre…"
      ]
     },
     "metadata": {},
     "output_type": "display_data"
    },
    {
     "name": "stdout",
     "output_type": "stream",
     "text": [
      "[2021-02-21 19:25:42,574][onir.pt][DEBUG] [finished] train pairs: [01:05] [1024it] [15.84it/s]\n",
      "[2021-02-21 19:25:42,578][onir.pt][DEBUG] [finished] training [01:05]\n",
      "[2021-02-21 19:25:42,580][onir.pt][INFO] training   it=0 loss=0.1159\n"
     ]
    },
    {
     "data": {
      "text/html": [
       "<div>\n",
       "<style scoped>\n",
       "    .dataframe tbody tr th:only-of-type {\n",
       "        vertical-align: middle;\n",
       "    }\n",
       "\n",
       "    .dataframe tbody tr th {\n",
       "        vertical-align: top;\n",
       "    }\n",
       "\n",
       "    .dataframe thead th {\n",
       "        text-align: right;\n",
       "    }\n",
       "</style>\n",
       "<table border=\"1\" class=\"dataframe\">\n",
       "  <thead>\n",
       "    <tr style=\"text-align: right;\">\n",
       "      <th></th>\n",
       "      <th>it</th>\n",
       "      <th>loss</th>\n",
       "    </tr>\n",
       "  </thead>\n",
       "  <tbody>\n",
       "    <tr>\n",
       "      <th>0</th>\n",
       "      <td>0</td>\n",
       "      <td>0.115943</td>\n",
       "    </tr>\n",
       "  </tbody>\n",
       "</table>\n",
       "</div>"
      ],
      "text/plain": [
       "   it      loss\n",
       "0   0  0.115943"
      ]
     },
     "execution_count": 9,
     "metadata": {},
     "output_type": "execute_result"
    }
   ],
   "source": [
    "# (over)fit 1 training iteration on the vaswani dataset\n",
    "rr.fit(tr_topics=dataset.get_topics(), tr_qrels=dataset.get_qrels(), tr_run=res_with_text)"
   ]
  },
  {
   "cell_type": "code",
   "execution_count": null,
   "id": "therapeutic-illness",
   "metadata": {},
   "outputs": [
    {
     "name": "stdout",
     "output_type": "stream",
     "text": [
      "[2021-02-21 19:25:42,612][onir.pt][DEBUG] [starting] validation\n",
      "[2021-02-21 19:25:42,614][onir.pt][DEBUG] using GPU (deterministic)\n",
      "[2021-02-21 19:25:42,619][onir.pt][DEBUG] [starting] batches\n"
     ]
    },
    {
     "data": {
      "application/vnd.jupyter.widget-view+json": {
       "model_id": "",
       "version_major": 2,
       "version_minor": 0
      },
      "text/plain": [
       "HBox(children=(IntProgress(value=0, description='batches', layout=Layout(flex='2'), max=2325, style=ProgressSt…"
      ]
     },
     "metadata": {},
     "output_type": "display_data"
    },
    {
     "name": "stdout",
     "output_type": "stream",
     "text": [
      "[2021-02-21 19:26:59,902][onir.pt][DEBUG] [finished] batches: [01:17] [2325it] [30.08it/s]\n",
      "[2021-02-21 19:26:59,925][onir.pt][DEBUG] [finished] validation [01:17]\n",
      "[2021-02-21 19:26:59,927][onir.pt][INFO] pre-validation: 0.3242\n",
      "[2021-02-21 19:27:00,334][onir.pt][DEBUG] using GPU (deterministic)\n",
      "[2021-02-21 19:27:00,343][onir.pt][DEBUG] [starting] training\n",
      "[2021-02-21 19:27:00,345][onir.pt][DEBUG] [starting] train pairs\n"
     ]
    },
    {
     "data": {
      "application/vnd.jupyter.widget-view+json": {
       "model_id": "",
       "version_major": 2,
       "version_minor": 0
      },
      "text/plain": [
       "HBox(children=(IntProgress(value=0, description='train pairs', layout=Layout(flex='2'), max=1024, style=Progre…"
      ]
     },
     "metadata": {},
     "output_type": "display_data"
    },
    {
     "name": "stdout",
     "output_type": "stream",
     "text": [
      "[2021-02-21 19:28:05,983][onir.pt][DEBUG] [finished] train pairs: [01:06] [1024it] [15.60it/s]\n",
      "[2021-02-21 19:28:05,988][onir.pt][DEBUG] [finished] training [01:06]\n",
      "[2021-02-21 19:28:05,991][onir.pt][INFO] training   it=0 loss=0.0634\n",
      "[2021-02-21 19:28:05,993][onir.pt][DEBUG] [starting] validation\n",
      "[2021-02-21 19:28:05,995][onir.pt][DEBUG] using GPU (deterministic)\n",
      "[2021-02-21 19:28:06,002][onir.pt][DEBUG] [starting] batches\n"
     ]
    },
    {
     "data": {
      "application/vnd.jupyter.widget-view+json": {
       "model_id": "",
       "version_major": 2,
       "version_minor": 0
      },
      "text/plain": [
       "HBox(children=(IntProgress(value=0, description='batches', layout=Layout(flex='2'), max=2325, style=ProgressSt…"
      ]
     },
     "metadata": {},
     "output_type": "display_data"
    },
    {
     "name": "stdout",
     "output_type": "stream",
     "text": [
      "[2021-02-21 19:29:23,237][onir.pt][DEBUG] [finished] batches: [01:17] [2325it] [30.10it/s]\n",
      "[2021-02-21 19:29:23,257][onir.pt][DEBUG] [finished] validation [01:17]\n",
      "[2021-02-21 19:29:24,009][onir.pt][INFO] validation it=0 map=0.3683 ndcg=0.5795 P_10=0.4742 <--\n",
      "[2021-02-21 19:29:24,012][onir.pt][DEBUG] using GPU (deterministic)\n",
      "[2021-02-21 19:29:24,020][onir.pt][DEBUG] [starting] training\n",
      "[2021-02-21 19:29:24,021][onir.pt][DEBUG] [starting] train pairs\n"
     ]
    },
    {
     "data": {
      "application/vnd.jupyter.widget-view+json": {
       "model_id": "",
       "version_major": 2,
       "version_minor": 0
      },
      "text/plain": [
       "HBox(children=(IntProgress(value=0, description='train pairs', layout=Layout(flex='2'), max=1024, style=Progre…"
      ]
     },
     "metadata": {},
     "output_type": "display_data"
    },
    {
     "name": "stdout",
     "output_type": "stream",
     "text": [
      "[2021-02-21 19:30:29,460][onir.pt][DEBUG] [finished] train pairs: [01:05] [1024it] [15.65it/s]\n",
      "[2021-02-21 19:30:29,463][onir.pt][DEBUG] [finished] training [01:05]\n",
      "[2021-02-21 19:30:29,466][onir.pt][INFO] training   it=0 loss=0.0710\n",
      "[2021-02-21 19:30:29,468][onir.pt][DEBUG] [starting] validation\n",
      "[2021-02-21 19:30:29,469][onir.pt][DEBUG] using GPU (deterministic)\n",
      "[2021-02-21 19:30:29,476][onir.pt][DEBUG] [starting] batches\n"
     ]
    },
    {
     "data": {
      "application/vnd.jupyter.widget-view+json": {
       "model_id": "",
       "version_major": 2,
       "version_minor": 0
      },
      "text/plain": [
       "HBox(children=(IntProgress(value=0, description='batches', layout=Layout(flex='2'), max=2325, style=ProgressSt…"
      ]
     },
     "metadata": {},
     "output_type": "display_data"
    },
    {
     "name": "stdout",
     "output_type": "stream",
     "text": [
      "[2021-02-21 19:31:46,602][onir.pt][DEBUG] [finished] batches: [01:17] [2325it] [30.15it/s]\n",
      "[2021-02-21 19:31:46,624][onir.pt][DEBUG] [finished] validation [01:17]\n",
      "[2021-02-21 19:31:47,418][onir.pt][INFO] validation it=0 map=0.4273 ndcg=0.6183 P_10=0.5333 <--\n",
      "[2021-02-21 19:31:47,420][onir.pt][DEBUG] using GPU (deterministic)\n",
      "[2021-02-21 19:31:47,428][onir.pt][DEBUG] [starting] training\n",
      "[2021-02-21 19:31:47,430][onir.pt][DEBUG] [starting] train pairs\n"
     ]
    },
    {
     "data": {
      "application/vnd.jupyter.widget-view+json": {
       "model_id": "",
       "version_major": 2,
       "version_minor": 0
      },
      "text/plain": [
       "HBox(children=(IntProgress(value=0, description='train pairs', layout=Layout(flex='2'), max=1024, style=Progre…"
      ]
     },
     "metadata": {},
     "output_type": "display_data"
    },
    {
     "name": "stdout",
     "output_type": "stream",
     "text": [
      "[2021-02-21 19:32:53,080][onir.pt][DEBUG] [finished] train pairs: [01:06] [1024it] [15.60it/s]\n",
      "[2021-02-21 19:32:53,086][onir.pt][DEBUG] [finished] training [01:06]\n",
      "[2021-02-21 19:32:53,089][onir.pt][INFO] training   it=0 loss=0.0721\n",
      "[2021-02-21 19:32:53,091][onir.pt][DEBUG] [starting] validation\n",
      "[2021-02-21 19:32:53,093][onir.pt][DEBUG] using GPU (deterministic)\n",
      "[2021-02-21 19:32:53,100][onir.pt][DEBUG] [starting] batches\n"
     ]
    },
    {
     "data": {
      "application/vnd.jupyter.widget-view+json": {
       "model_id": "",
       "version_major": 2,
       "version_minor": 0
      },
      "text/plain": [
       "HBox(children=(IntProgress(value=0, description='batches', layout=Layout(flex='2'), max=2325, style=ProgressSt…"
      ]
     },
     "metadata": {},
     "output_type": "display_data"
    },
    {
     "name": "stdout",
     "output_type": "stream",
     "text": [
      "[2021-02-21 19:34:10,163][onir.pt][DEBUG] [finished] batches: [01:17] [2325it] [30.17it/s]\n",
      "[2021-02-21 19:34:10,183][onir.pt][DEBUG] [finished] validation [01:17]\n",
      "[2021-02-21 19:34:10,933][onir.pt][INFO] validation it=0 map=0.4417 ndcg=0.6307 P_10=0.5495 <--\n",
      "[2021-02-21 19:34:10,935][onir.pt][DEBUG] using GPU (deterministic)\n",
      "[2021-02-21 19:34:10,943][onir.pt][DEBUG] [starting] training\n",
      "[2021-02-21 19:34:10,944][onir.pt][DEBUG] [starting] train pairs\n"
     ]
    },
    {
     "data": {
      "application/vnd.jupyter.widget-view+json": {
       "model_id": "",
       "version_major": 2,
       "version_minor": 0
      },
      "text/plain": [
       "HBox(children=(IntProgress(value=0, description='train pairs', layout=Layout(flex='2'), max=1024, style=Progre…"
      ]
     },
     "metadata": {},
     "output_type": "display_data"
    },
    {
     "name": "stdout",
     "output_type": "stream",
     "text": [
      "[2021-02-21 19:35:16,420][onir.pt][DEBUG] [finished] train pairs: [01:05] [1024it] [15.64it/s]\n",
      "[2021-02-21 19:35:16,426][onir.pt][DEBUG] [finished] training [01:05]\n",
      "[2021-02-21 19:35:16,430][onir.pt][INFO] training   it=0 loss=0.0556\n",
      "[2021-02-21 19:35:16,432][onir.pt][DEBUG] [starting] validation\n",
      "[2021-02-21 19:35:16,434][onir.pt][DEBUG] using GPU (deterministic)\n",
      "[2021-02-21 19:35:16,441][onir.pt][DEBUG] [starting] batches\n"
     ]
    },
    {
     "data": {
      "application/vnd.jupyter.widget-view+json": {
       "model_id": "",
       "version_major": 2,
       "version_minor": 0
      },
      "text/plain": [
       "HBox(children=(IntProgress(value=0, description='batches', layout=Layout(flex='2'), max=2325, style=ProgressSt…"
      ]
     },
     "metadata": {},
     "output_type": "display_data"
    },
    {
     "name": "stdout",
     "output_type": "stream",
     "text": [
      "[2021-02-21 19:36:33,636][onir.pt][DEBUG] [finished] batches: [01:17] [2325it] [30.12it/s]\n",
      "[2021-02-21 19:36:33,655][onir.pt][DEBUG] [finished] validation [01:17]\n",
      "[2021-02-21 19:36:34,437][onir.pt][INFO] validation it=0 map=0.4768 ndcg=0.6469 P_10=0.5882 <--\n",
      "[2021-02-21 19:36:34,439][onir.pt][DEBUG] using GPU (deterministic)\n",
      "[2021-02-21 19:36:34,447][onir.pt][DEBUG] [starting] training\n",
      "[2021-02-21 19:36:34,448][onir.pt][DEBUG] [starting] train pairs\n"
     ]
    },
    {
     "data": {
      "application/vnd.jupyter.widget-view+json": {
       "model_id": "",
       "version_major": 2,
       "version_minor": 0
      },
      "text/plain": [
       "HBox(children=(IntProgress(value=0, description='train pairs', layout=Layout(flex='2'), max=1024, style=Progre…"
      ]
     },
     "metadata": {},
     "output_type": "display_data"
    },
    {
     "name": "stdout",
     "output_type": "stream",
     "text": [
      "[2021-02-21 19:37:39,576][onir.pt][DEBUG] [finished] train pairs: [01:05] [1024it] [15.72it/s]\n",
      "[2021-02-21 19:37:39,580][onir.pt][DEBUG] [finished] training [01:05]\n",
      "[2021-02-21 19:37:39,583][onir.pt][INFO] training   it=0 loss=0.0430\n",
      "[2021-02-21 19:37:39,585][onir.pt][DEBUG] [starting] validation\n",
      "[2021-02-21 19:37:39,586][onir.pt][DEBUG] using GPU (deterministic)\n",
      "[2021-02-21 19:37:39,594][onir.pt][DEBUG] [starting] batches\n"
     ]
    },
    {
     "data": {
      "application/vnd.jupyter.widget-view+json": {
       "model_id": "",
       "version_major": 2,
       "version_minor": 0
      },
      "text/plain": [
       "HBox(children=(IntProgress(value=0, description='batches', layout=Layout(flex='2'), max=2325, style=ProgressSt…"
      ]
     },
     "metadata": {},
     "output_type": "display_data"
    },
    {
     "name": "stdout",
     "output_type": "stream",
     "text": [
      "[2021-02-21 19:38:56,858][onir.pt][DEBUG] [finished] batches: [01:17] [2325it] [30.09it/s]\n",
      "[2021-02-21 19:38:56,881][onir.pt][DEBUG] [finished] validation [01:17]\n",
      "[2021-02-21 19:38:57,725][onir.pt][INFO] validation it=0 map=0.4970 ndcg=0.6601 P_10=0.6032 <--\n",
      "[2021-02-21 19:38:57,727][onir.pt][DEBUG] using GPU (deterministic)\n",
      "[2021-02-21 19:38:57,734][onir.pt][DEBUG] [starting] training\n",
      "[2021-02-21 19:38:57,735][onir.pt][DEBUG] [starting] train pairs\n"
     ]
    },
    {
     "data": {
      "application/vnd.jupyter.widget-view+json": {
       "model_id": "",
       "version_major": 2,
       "version_minor": 0
      },
      "text/plain": [
       "HBox(children=(IntProgress(value=0, description='train pairs', layout=Layout(flex='2'), max=1024, style=Progre…"
      ]
     },
     "metadata": {},
     "output_type": "display_data"
    },
    {
     "name": "stdout",
     "output_type": "stream",
     "text": [
      "[2021-02-21 19:40:03,206][onir.pt][DEBUG] [finished] train pairs: [01:05] [1024it] [15.64it/s]\n",
      "[2021-02-21 19:40:03,211][onir.pt][DEBUG] [finished] training [01:05]\n",
      "[2021-02-21 19:40:03,215][onir.pt][INFO] training   it=0 loss=0.0352\n",
      "[2021-02-21 19:40:03,217][onir.pt][DEBUG] [starting] validation\n",
      "[2021-02-21 19:40:03,219][onir.pt][DEBUG] using GPU (deterministic)\n",
      "[2021-02-21 19:40:03,227][onir.pt][DEBUG] [starting] batches\n"
     ]
    },
    {
     "data": {
      "application/vnd.jupyter.widget-view+json": {
       "model_id": "",
       "version_major": 2,
       "version_minor": 0
      },
      "text/plain": [
       "HBox(children=(IntProgress(value=0, description='batches', layout=Layout(flex='2'), max=2325, style=ProgressSt…"
      ]
     },
     "metadata": {},
     "output_type": "display_data"
    },
    {
     "name": "stdout",
     "output_type": "stream",
     "text": [
      "[2021-02-21 19:41:20,400][onir.pt][DEBUG] [finished] batches: [01:17] [2325it] [30.13it/s]\n",
      "[2021-02-21 19:41:20,423][onir.pt][DEBUG] [finished] validation [01:17]\n",
      "[2021-02-21 19:41:21,181][onir.pt][INFO] validation it=0 map=0.4997 ndcg=0.6598 P_10=0.6258 <--\n",
      "[2021-02-21 19:41:21,184][onir.pt][DEBUG] using GPU (deterministic)\n",
      "[2021-02-21 19:41:21,192][onir.pt][DEBUG] [starting] training\n",
      "[2021-02-21 19:41:21,194][onir.pt][DEBUG] [starting] train pairs\n"
     ]
    },
    {
     "data": {
      "application/vnd.jupyter.widget-view+json": {
       "model_id": "",
       "version_major": 2,
       "version_minor": 0
      },
      "text/plain": [
       "HBox(children=(IntProgress(value=0, description='train pairs', layout=Layout(flex='2'), max=1024, style=Progre…"
      ]
     },
     "metadata": {},
     "output_type": "display_data"
    },
    {
     "name": "stdout",
     "output_type": "stream",
     "text": [
      "[2021-02-21 19:42:26,303][onir.pt][DEBUG] [finished] train pairs: [01:05] [1024it] [15.73it/s]\n",
      "[2021-02-21 19:42:26,310][onir.pt][DEBUG] [finished] training [01:05]\n",
      "[2021-02-21 19:42:26,314][onir.pt][INFO] training   it=0 loss=0.0284\n",
      "[2021-02-21 19:42:26,317][onir.pt][DEBUG] [starting] validation\n",
      "[2021-02-21 19:42:26,318][onir.pt][DEBUG] using GPU (deterministic)\n",
      "[2021-02-21 19:42:26,326][onir.pt][DEBUG] [starting] batches\n"
     ]
    },
    {
     "data": {
      "application/vnd.jupyter.widget-view+json": {
       "model_id": "",
       "version_major": 2,
       "version_minor": 0
      },
      "text/plain": [
       "HBox(children=(IntProgress(value=0, description='batches', layout=Layout(flex='2'), max=2325, style=ProgressSt…"
      ]
     },
     "metadata": {},
     "output_type": "display_data"
    },
    {
     "name": "stdout",
     "output_type": "stream",
     "text": [
      "[2021-02-21 19:43:43,664][onir.pt][DEBUG] [finished] batches: [01:17] [2325it] [30.06it/s]\n",
      "[2021-02-21 19:43:43,685][onir.pt][DEBUG] [finished] validation [01:17]\n",
      "[2021-02-21 19:43:44,499][onir.pt][INFO] validation it=0 map=0.5089 ndcg=0.6654 P_10=0.6333 <--\n",
      "[2021-02-21 19:43:44,502][onir.pt][DEBUG] using GPU (deterministic)\n",
      "[2021-02-21 19:43:44,512][onir.pt][DEBUG] [starting] training\n",
      "[2021-02-21 19:43:44,513][onir.pt][DEBUG] [starting] train pairs\n"
     ]
    },
    {
     "data": {
      "application/vnd.jupyter.widget-view+json": {
       "model_id": "",
       "version_major": 2,
       "version_minor": 0
      },
      "text/plain": [
       "HBox(children=(IntProgress(value=0, description='train pairs', layout=Layout(flex='2'), max=1024, style=Progre…"
      ]
     },
     "metadata": {},
     "output_type": "display_data"
    },
    {
     "name": "stdout",
     "output_type": "stream",
     "text": [
      "[2021-02-21 19:44:49,740][onir.pt][DEBUG] [finished] train pairs: [01:05] [1024it] [15.70it/s]\n",
      "[2021-02-21 19:44:49,744][onir.pt][DEBUG] [finished] training [01:05]\n",
      "[2021-02-21 19:44:49,747][onir.pt][INFO] training   it=0 loss=0.0288\n",
      "[2021-02-21 19:44:49,749][onir.pt][DEBUG] [starting] validation\n",
      "[2021-02-21 19:44:49,751][onir.pt][DEBUG] using GPU (deterministic)\n",
      "[2021-02-21 19:44:49,757][onir.pt][DEBUG] [starting] batches\n"
     ]
    },
    {
     "data": {
      "application/vnd.jupyter.widget-view+json": {
       "model_id": "",
       "version_major": 2,
       "version_minor": 0
      },
      "text/plain": [
       "HBox(children=(IntProgress(value=0, description='batches', layout=Layout(flex='2'), max=2325, style=ProgressSt…"
      ]
     },
     "metadata": {},
     "output_type": "display_data"
    },
    {
     "name": "stdout",
     "output_type": "stream",
     "text": [
      "[2021-02-21 19:46:06,958][onir.pt][DEBUG] [finished] batches: [01:17] [2325it] [30.12it/s]\n",
      "[2021-02-21 19:46:06,981][onir.pt][DEBUG] [finished] validation [01:17]\n",
      "[2021-02-21 19:46:07,768][onir.pt][INFO] validation it=0 map=0.5096 ndcg=0.6639 P_10=0.6387 <--\n",
      "[2021-02-21 19:46:07,770][onir.pt][DEBUG] using GPU (deterministic)\n",
      "[2021-02-21 19:46:07,777][onir.pt][DEBUG] [starting] training\n",
      "[2021-02-21 19:46:07,778][onir.pt][DEBUG] [starting] train pairs\n"
     ]
    },
    {
     "data": {
      "application/vnd.jupyter.widget-view+json": {
       "model_id": "",
       "version_major": 2,
       "version_minor": 0
      },
      "text/plain": [
       "HBox(children=(IntProgress(value=0, description='train pairs', layout=Layout(flex='2'), max=1024, style=Progre…"
      ]
     },
     "metadata": {},
     "output_type": "display_data"
    },
    {
     "name": "stdout",
     "output_type": "stream",
     "text": [
      "[2021-02-21 19:47:13,408][onir.pt][DEBUG] [finished] train pairs: [01:06] [1024it] [15.60it/s]\n",
      "[2021-02-21 19:47:13,412][onir.pt][DEBUG] [finished] training [01:06]\n",
      "[2021-02-21 19:47:13,415][onir.pt][INFO] training   it=0 loss=0.0281\n",
      "[2021-02-21 19:47:13,417][onir.pt][DEBUG] [starting] validation\n",
      "[2021-02-21 19:47:13,419][onir.pt][DEBUG] using GPU (deterministic)\n",
      "[2021-02-21 19:47:13,427][onir.pt][DEBUG] [starting] batches\n"
     ]
    },
    {
     "data": {
      "application/vnd.jupyter.widget-view+json": {
       "model_id": "",
       "version_major": 2,
       "version_minor": 0
      },
      "text/plain": [
       "HBox(children=(IntProgress(value=0, description='batches', layout=Layout(flex='2'), max=2325, style=ProgressSt…"
      ]
     },
     "metadata": {},
     "output_type": "display_data"
    },
    {
     "name": "stdout",
     "output_type": "stream",
     "text": [
      "[2021-02-21 19:48:30,617][onir.pt][DEBUG] [finished] batches: [01:17] [2325it] [30.12it/s]\n",
      "[2021-02-21 19:48:30,637][onir.pt][DEBUG] [finished] validation [01:17]\n",
      "[2021-02-21 19:48:31,445][onir.pt][INFO] validation it=0 map=0.5291 ndcg=0.6760 P_10=0.6591 <--\n",
      "[2021-02-21 19:48:31,447][onir.pt][DEBUG] using GPU (deterministic)\n",
      "[2021-02-21 19:48:31,453][onir.pt][DEBUG] [starting] training\n",
      "[2021-02-21 19:48:31,455][onir.pt][DEBUG] [starting] train pairs\n"
     ]
    },
    {
     "data": {
      "application/vnd.jupyter.widget-view+json": {
       "model_id": "",
       "version_major": 2,
       "version_minor": 0
      },
      "text/plain": [
       "HBox(children=(IntProgress(value=0, description='train pairs', layout=Layout(flex='2'), max=1024, style=Progre…"
      ]
     },
     "metadata": {},
     "output_type": "display_data"
    },
    {
     "name": "stdout",
     "output_type": "stream",
     "text": [
      "[2021-02-21 19:49:37,229][onir.pt][DEBUG] [finished] train pairs: [01:06] [1024it] [15.57it/s]\n",
      "[2021-02-21 19:49:37,234][onir.pt][DEBUG] [finished] training [01:06]\n",
      "[2021-02-21 19:49:37,240][onir.pt][INFO] training   it=0 loss=0.0242\n",
      "[2021-02-21 19:49:37,243][onir.pt][DEBUG] [starting] validation\n",
      "[2021-02-21 19:49:37,245][onir.pt][DEBUG] using GPU (deterministic)\n",
      "[2021-02-21 19:49:37,255][onir.pt][DEBUG] [starting] batches\n"
     ]
    },
    {
     "data": {
      "application/vnd.jupyter.widget-view+json": {
       "model_id": "",
       "version_major": 2,
       "version_minor": 0
      },
      "text/plain": [
       "HBox(children=(IntProgress(value=0, description='batches', layout=Layout(flex='2'), max=2325, style=ProgressSt…"
      ]
     },
     "metadata": {},
     "output_type": "display_data"
    },
    {
     "name": "stdout",
     "output_type": "stream",
     "text": [
      "[2021-02-21 19:50:54,375][onir.pt][DEBUG] [finished] batches: [01:17] [2325it] [30.15it/s]\n",
      "[2021-02-21 19:50:54,399][onir.pt][DEBUG] [finished] validation [01:17]\n",
      "[2021-02-21 19:50:55,176][onir.pt][INFO] validation it=0 map=0.5368 ndcg=0.6783 P_10=0.6774 <--\n",
      "[2021-02-21 19:50:55,179][onir.pt][DEBUG] using GPU (deterministic)\n",
      "[2021-02-21 19:50:55,187][onir.pt][DEBUG] [starting] training\n",
      "[2021-02-21 19:50:55,189][onir.pt][DEBUG] [starting] train pairs\n"
     ]
    },
    {
     "data": {
      "application/vnd.jupyter.widget-view+json": {
       "model_id": "",
       "version_major": 2,
       "version_minor": 0
      },
      "text/plain": [
       "HBox(children=(IntProgress(value=0, description='train pairs', layout=Layout(flex='2'), max=1024, style=Progre…"
      ]
     },
     "metadata": {},
     "output_type": "display_data"
    },
    {
     "name": "stdout",
     "output_type": "stream",
     "text": [
      "[2021-02-21 19:52:00,214][onir.pt][DEBUG] [finished] train pairs: [01:05] [1024it] [15.75it/s]\n",
      "[2021-02-21 19:52:00,219][onir.pt][DEBUG] [finished] training [01:05]\n",
      "[2021-02-21 19:52:00,222][onir.pt][INFO] training   it=0 loss=0.0238\n",
      "[2021-02-21 19:52:00,224][onir.pt][DEBUG] [starting] validation\n",
      "[2021-02-21 19:52:00,226][onir.pt][DEBUG] using GPU (deterministic)\n",
      "[2021-02-21 19:52:00,233][onir.pt][DEBUG] [starting] batches\n"
     ]
    },
    {
     "data": {
      "application/vnd.jupyter.widget-view+json": {
       "model_id": "",
       "version_major": 2,
       "version_minor": 0
      },
      "text/plain": [
       "HBox(children=(IntProgress(value=0, description='batches', layout=Layout(flex='2'), max=2325, style=ProgressSt…"
      ]
     },
     "metadata": {},
     "output_type": "display_data"
    },
    {
     "name": "stdout",
     "output_type": "stream",
     "text": [
      "[2021-02-21 19:53:17,438][onir.pt][DEBUG] [finished] batches: [01:17] [2325it] [30.12it/s]\n",
      "[2021-02-21 19:53:17,457][onir.pt][DEBUG] [finished] validation [01:17]\n",
      "[2021-02-21 19:53:17,460][onir.pt][INFO] validation it=0 map=0.5320 ndcg=0.6768 P_10=0.6613\n",
      "[2021-02-21 19:53:17,461][onir.pt][DEBUG] using GPU (deterministic)\n",
      "[2021-02-21 19:53:17,467][onir.pt][DEBUG] [starting] training\n",
      "[2021-02-21 19:53:17,468][onir.pt][DEBUG] [starting] train pairs\n"
     ]
    },
    {
     "data": {
      "application/vnd.jupyter.widget-view+json": {
       "model_id": "",
       "version_major": 2,
       "version_minor": 0
      },
      "text/plain": [
       "HBox(children=(IntProgress(value=0, description='train pairs', layout=Layout(flex='2'), max=1024, style=Progre…"
      ]
     },
     "metadata": {},
     "output_type": "display_data"
    },
    {
     "name": "stdout",
     "output_type": "stream",
     "text": [
      "[2021-02-21 19:54:23,356][onir.pt][DEBUG] [finished] train pairs: [01:06] [1024it] [15.54it/s]\n",
      "[2021-02-21 19:54:23,361][onir.pt][DEBUG] [finished] training [01:06]\n",
      "[2021-02-21 19:54:23,364][onir.pt][INFO] training   it=0 loss=0.0235\n",
      "[2021-02-21 19:54:23,366][onir.pt][DEBUG] [starting] validation\n",
      "[2021-02-21 19:54:23,367][onir.pt][DEBUG] using GPU (deterministic)\n",
      "[2021-02-21 19:54:23,375][onir.pt][DEBUG] [starting] batches\n"
     ]
    },
    {
     "data": {
      "application/vnd.jupyter.widget-view+json": {
       "model_id": "760490f2eda842ff81b1e5a786f2de76",
       "version_major": 2,
       "version_minor": 0
      },
      "text/plain": [
       "HBox(children=(IntProgress(value=0, description='batches', layout=Layout(flex='2'), max=2325, style=ProgressSt…"
      ]
     },
     "metadata": {},
     "output_type": "display_data"
    }
   ],
   "source": [
    "# (over)fit many training iterations on the vaswani dataset\n",
    "rr.fit(tr_topics=dataset.get_topics(), tr_qrels=dataset.get_qrels(), tr_run=res_with_text, va_run=res_with_text, va_qrels=dataset.get_qrels())"
   ]
  },
  {
   "cell_type": "code",
   "execution_count": null,
   "id": "younger-medicine",
   "metadata": {},
   "outputs": [],
   "source": [
    "# Train on a pair iterator (also works with dataframe of same columns)\n",
    "def tr_pairs():\n",
    "    import ir_datasets\n",
    "    ds = ir_datasets.load('msmarco-passage/train')\n",
    "    queries = {q.query_id: q for q in ds.queries_iter()}\n",
    "    docstore = ds.docs_store()\n",
    "    for scoreddoc in ds.docpairs_iter():\n",
    "        yield onir.pt.TrainPair(\n",
    "            scoreddoc.query_id,\n",
    "            queries[scoreddoc.query_id].text,\n",
    "            scoreddoc.doc_id_a,\n",
    "            docstore.get(scoreddoc.doc_id_a).text,\n",
    "            scoreddoc.doc_id_b,\n",
    "            docstore.get(scoreddoc.doc_id_b).text)\n",
    "rr.fit(tr_pairs=tr_pairs())"
   ]
  },
  {
   "cell_type": "code",
   "execution_count": null,
   "id": "embedded-geography",
   "metadata": {},
   "outputs": [],
   "source": []
  }
 ],
 "metadata": {
  "kernelspec": {
   "display_name": "Python 3",
   "language": "python",
   "name": "python3"
  },
  "language_info": {
   "codemirror_mode": {
    "name": "ipython",
    "version": 3
   },
   "file_extension": ".py",
   "mimetype": "text/x-python",
   "name": "python",
   "nbconvert_exporter": "python",
   "pygments_lexer": "ipython3",
   "version": "3.6.7"
  }
 },
 "nbformat": 4,
 "nbformat_minor": 5
}
