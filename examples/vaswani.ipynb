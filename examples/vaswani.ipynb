{
 "cells": [
  {
   "cell_type": "code",
   "execution_count": 1,
   "id": "moved-lotus",
   "metadata": {
    "scrolled": true
   },
   "outputs": [],
   "source": [
    "import sys\n",
    "import os\n",
    "import shutil\n",
    "from collections import namedtuple\n",
    "sys.path.append('..') # assuming we're running from OpenNIR/examples/\n",
    "os.environ['ONIR_IGNORE_ARGV'] = 'true' # don't process command line arguments (they come from jupyter)"
   ]
  },
  {
   "cell_type": "code",
   "execution_count": 2,
   "id": "blond-synthetic",
   "metadata": {},
   "outputs": [
    {
     "name": "stdout",
     "output_type": "stream",
     "text": [
      "PyTerrier 0.3.1 has loaded Terrier 5.4 (built by craigm on 2021-01-16 14:17)\n",
      "Better speed can be achieved with apex installed from https://www.github.com/nvidia/apex.\n"
     ]
    }
   ],
   "source": [
    "import pandas as pd\n",
    "import pyterrier as pt\n",
    "if not pt.started():\n",
    "    pt.init(tqdm='notebook')\n",
    "import onir.pt"
   ]
  },
  {
   "cell_type": "code",
   "execution_count": 3,
   "id": "grateful-belfast",
   "metadata": {},
   "outputs": [
    {
     "name": "stdout",
     "output_type": "stream",
     "text": [
      "configuraiton file not found: config\n"
     ]
    }
   ],
   "source": [
    "# Sample EPIC re-ranker (trained on msmarco)\n",
    "rr = onir.pt.reranker.from_checkpoint('epic.msmarco.tar.gz', {'learning_rate': 1e-5})"
   ]
  },
  {
   "cell_type": "code",
   "execution_count": 4,
   "id": "radical-shopping",
   "metadata": {
    "scrolled": true
   },
   "outputs": [],
   "source": [
    "dataset = pt.datasets.get_dataset('irds:vaswani')\n",
    "index_path = './index_vaswani'\n",
    "if not os.path.exists(index_path):\n",
    "    indexer = pt.index.IterDictIndexer(index_path)\n",
    "    index_ref = indexer.index(dataset.get_corpus_iter(), meta=('docno', 'text'))\n",
    "else:\n",
    "    index_ref = pt.IndexRef.of(index_path + '/data.properties')\n",
    "index = pt.IndexFactory.of(index_ref)"
   ]
  },
  {
   "cell_type": "code",
   "execution_count": 5,
   "id": "fossil-crash",
   "metadata": {},
   "outputs": [],
   "source": [
    "base_pipeline = pt.BatchRetrieve(index, wmodel=\"BM25\") % 100\n",
    "res = base_pipeline.transform(dataset.get_topics())"
   ]
  },
  {
   "cell_type": "code",
   "execution_count": 6,
   "id": "humanitarian-aggregate",
   "metadata": {},
   "outputs": [
    {
     "data": {
      "text/plain": [
       "{'map': 0.2725231249761632}"
      ]
     },
     "execution_count": 6,
     "metadata": {},
     "output_type": "execute_result"
    }
   ],
   "source": [
    "pt.Utils.evaluate(res, dataset.get_qrels(), metrics = ['map'])"
   ]
  },
  {
   "cell_type": "code",
   "execution_count": 7,
   "id": "alike-inclusion",
   "metadata": {
    "scrolled": true
   },
   "outputs": [
    {
     "name": "stdout",
     "output_type": "stream",
     "text": [
      "[2021-02-21 20:37:59,216][onir.pt][DEBUG] using GPU (deterministic)\n",
      "[2021-02-21 20:37:59,310][onir.pt][DEBUG] [starting] batches\n"
     ]
    },
    {
     "data": {
      "application/vnd.jupyter.widget-view+json": {
       "model_id": "",
       "version_major": 2,
       "version_minor": 0
      },
      "text/plain": [
       "HBox(children=(IntProgress(value=0, description='batches', layout=Layout(flex='2'), max=2325, style=ProgressSt…"
      ]
     },
     "metadata": {},
     "output_type": "display_data"
    },
    {
     "name": "stdout",
     "output_type": "stream",
     "text": [
      "[2021-02-21 20:39:15,133][onir.pt][DEBUG] [finished] batches: [01:16] [2325it] [30.66it/s]\n"
     ]
    }
   ],
   "source": [
    "rr_pipeline = base_pipeline >> pt.text.get_text(index, \"text\") >> rr\n",
    "epic_res = rr_pipeline.transform(dataset.get_topics())"
   ]
  },
  {
   "cell_type": "code",
   "execution_count": 8,
   "id": "documented-context",
   "metadata": {},
   "outputs": [
    {
     "data": {
      "text/plain": [
       "{'map': 0.22642311752488706}"
      ]
     },
     "execution_count": 8,
     "metadata": {},
     "output_type": "execute_result"
    }
   ],
   "source": [
    "pt.Utils.evaluate(epic_res, dataset.get_qrels(), metrics = ['map'])"
   ]
  },
  {
   "cell_type": "code",
   "execution_count": 9,
   "id": "drawn-decimal",
   "metadata": {},
   "outputs": [
    {
     "name": "stdout",
     "output_type": "stream",
     "text": [
      "[2021-02-21 20:39:19,927][onir.pt][DEBUG] using GPU (deterministic)\n",
      "[2021-02-21 20:39:19,931][onir.pt][DEBUG] [starting] training\n",
      "[2021-02-21 20:39:19,932][onir.pt][DEBUG] [starting] train pairs\n"
     ]
    },
    {
     "data": {
      "application/vnd.jupyter.widget-view+json": {
       "model_id": "",
       "version_major": 2,
       "version_minor": 0
      },
      "text/plain": [
       "HBox(children=(IntProgress(value=0, description='train pairs', layout=Layout(flex='2'), max=1024, style=Progre…"
      ]
     },
     "metadata": {},
     "output_type": "display_data"
    },
    {
     "name": "stdout",
     "output_type": "stream",
     "text": [
      "[2021-02-21 20:40:24,105][onir.pt][DEBUG] [finished] train pairs: [01:04] [1024it] [15.96it/s]\n",
      "[2021-02-21 20:40:24,110][onir.pt][DEBUG] [finished] training [01:04]\n",
      "[2021-02-21 20:40:24,113][onir.pt][INFO] training   it=0 loss=0.1170\n"
     ]
    }
   ],
   "source": [
    "# (over)fit 1 training iteration on the vaswani dataset\n",
    "rr_pipeline.fit(dataset.get_topics(), dataset.get_qrels())"
   ]
  },
  {
   "cell_type": "code",
   "execution_count": null,
   "id": "therapeutic-illness",
   "metadata": {},
   "outputs": [
    {
     "name": "stdout",
     "output_type": "stream",
     "text": [
      "[2021-02-21 20:40:33,574][onir.pt][DEBUG] [starting] validation\n",
      "[2021-02-21 20:40:33,576][onir.pt][DEBUG] using GPU (deterministic)\n",
      "[2021-02-21 20:40:33,581][onir.pt][DEBUG] [starting] batches\n"
     ]
    },
    {
     "data": {
      "application/vnd.jupyter.widget-view+json": {
       "model_id": "",
       "version_major": 2,
       "version_minor": 0
      },
      "text/plain": [
       "HBox(children=(IntProgress(value=0, description='batches', layout=Layout(flex='2'), max=2325, style=ProgressSt…"
      ]
     },
     "metadata": {},
     "output_type": "display_data"
    },
    {
     "name": "stdout",
     "output_type": "stream",
     "text": [
      "[2021-02-21 20:41:49,903][onir.pt][DEBUG] [finished] batches: [01:16] [2325it] [30.46it/s]\n",
      "[2021-02-21 20:41:49,923][onir.pt][DEBUG] [finished] validation [01:16]\n",
      "[2021-02-21 20:41:49,925][onir.pt][INFO] pre-validation: 0.3259\n",
      "[2021-02-21 20:41:50,324][onir.pt][DEBUG] using GPU (deterministic)\n",
      "[2021-02-21 20:41:50,329][onir.pt][DEBUG] [starting] training\n",
      "[2021-02-21 20:41:50,331][onir.pt][DEBUG] [starting] train pairs\n"
     ]
    },
    {
     "data": {
      "application/vnd.jupyter.widget-view+json": {
       "model_id": "",
       "version_major": 2,
       "version_minor": 0
      },
      "text/plain": [
       "HBox(children=(IntProgress(value=0, description='train pairs', layout=Layout(flex='2'), max=1024, style=Progre…"
      ]
     },
     "metadata": {},
     "output_type": "display_data"
    },
    {
     "name": "stdout",
     "output_type": "stream",
     "text": [
      "[2021-02-21 20:42:54,742][onir.pt][DEBUG] [finished] train pairs: [01:04] [1024it] [15.90it/s]\n",
      "[2021-02-21 20:42:54,746][onir.pt][DEBUG] [finished] training [01:04]\n",
      "[2021-02-21 20:42:54,748][onir.pt][INFO] training   it=0 loss=0.0651\n",
      "[2021-02-21 20:42:54,750][onir.pt][DEBUG] [starting] validation\n",
      "[2021-02-21 20:42:54,751][onir.pt][DEBUG] using GPU (deterministic)\n",
      "[2021-02-21 20:42:54,758][onir.pt][DEBUG] [starting] batches\n"
     ]
    },
    {
     "data": {
      "application/vnd.jupyter.widget-view+json": {
       "model_id": "",
       "version_major": 2,
       "version_minor": 0
      },
      "text/plain": [
       "HBox(children=(IntProgress(value=0, description='batches', layout=Layout(flex='2'), max=2325, style=ProgressSt…"
      ]
     },
     "metadata": {},
     "output_type": "display_data"
    },
    {
     "name": "stdout",
     "output_type": "stream",
     "text": [
      "[2021-02-21 20:44:11,061][onir.pt][DEBUG] [finished] batches: [01:16] [2325it] [30.47it/s]\n",
      "[2021-02-21 20:44:11,084][onir.pt][DEBUG] [finished] validation [01:16]\n",
      "[2021-02-21 20:44:11,867][onir.pt][INFO] validation it=0 map=0.3557 ndcg=0.5712 P_10=0.4688 <--\n",
      "[2021-02-21 20:44:11,870][onir.pt][DEBUG] using GPU (deterministic)\n",
      "[2021-02-21 20:44:11,878][onir.pt][DEBUG] [starting] training\n",
      "[2021-02-21 20:44:11,880][onir.pt][DEBUG] [starting] train pairs\n"
     ]
    },
    {
     "data": {
      "application/vnd.jupyter.widget-view+json": {
       "model_id": "0d5d0c06902a47ca98d1ff558ebc529e",
       "version_major": 2,
       "version_minor": 0
      },
      "text/plain": [
       "HBox(children=(IntProgress(value=0, description='train pairs', layout=Layout(flex='2'), max=1024, style=Progre…"
      ]
     },
     "metadata": {},
     "output_type": "display_data"
    }
   ],
   "source": [
    "# (over)fit many training iterations on the vaswani dataset\n",
    "rr_pipeline.fit(dataset.get_topics(), dataset.get_qrels(), dataset.get_topics(), dataset.get_qrels())"
   ]
  },
  {
   "cell_type": "code",
   "execution_count": null,
   "id": "younger-medicine",
   "metadata": {},
   "outputs": [],
   "source": [
    "# Train on a pair iterator (also works with dataframe of same columns)\n",
    "def tr_pairs():\n",
    "    import ir_datasets\n",
    "    ds = ir_datasets.load('msmarco-passage/train')\n",
    "    queries = {q.query_id: q for q in ds.queries_iter()}\n",
    "    docstore = ds.docs_store()\n",
    "    for scoreddoc in ds.docpairs_iter():\n",
    "        yield onir.pt.TrainPair(\n",
    "            scoreddoc.query_id,\n",
    "            queries[scoreddoc.query_id].text,\n",
    "            scoreddoc.doc_id_a,\n",
    "            docstore.get(scoreddoc.doc_id_a).text,\n",
    "            scoreddoc.doc_id_b,\n",
    "            docstore.get(scoreddoc.doc_id_b).text)\n",
    "rr.fit(tr_pairs=tr_pairs())"
   ]
  },
  {
   "cell_type": "code",
   "execution_count": null,
   "id": "embedded-geography",
   "metadata": {},
   "outputs": [],
   "source": []
  }
 ],
 "metadata": {
  "kernelspec": {
   "display_name": "Python 3",
   "language": "python",
   "name": "python3"
  },
  "language_info": {
   "codemirror_mode": {
    "name": "ipython",
    "version": 3
   },
   "file_extension": ".py",
   "mimetype": "text/x-python",
   "name": "python",
   "nbconvert_exporter": "python",
   "pygments_lexer": "ipython3",
   "version": "3.6.7"
  }
 },
 "nbformat": 4,
 "nbformat_minor": 5
}
