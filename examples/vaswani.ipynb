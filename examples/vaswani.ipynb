{
 "cells": [
  {
   "cell_type": "code",
   "execution_count": 3,
   "id": "moved-lotus",
   "metadata": {
    "scrolled": true
   },
   "outputs": [],
   "source": [
    "import sys\n",
    "import os\n",
    "import shutil\n",
    "from collections import namedtuple\n",
    "sys.path.append('..') # assuming we're running from OpenNIR/examples/\n",
    "os.environ['ONIR_IGNORE_ARGV'] = 'true' # don't process command line arguments (they come from jupyter)\n",
    "os.environ['ONIR_PBAR_COLS'] = '' # no ncols for tqdm"
   ]
  },
  {
   "cell_type": "code",
   "execution_count": 4,
   "id": "blond-synthetic",
   "metadata": {},
   "outputs": [
    {
     "name": "stdout",
     "output_type": "stream",
     "text": [
      "Better speed can be achieved with apex installed from https://www.github.com/nvidia/apex.\n"
     ]
    }
   ],
   "source": [
    "import pandas as pd\n",
    "import pyterrier as pt\n",
    "if not pt.started():\n",
    "    pt.init(tqdm='notebook')\n",
    "import onir.pt"
   ]
  },
  {
   "cell_type": "code",
   "execution_count": 5,
   "id": "grateful-belfast",
   "metadata": {},
   "outputs": [
    {
     "name": "stdout",
     "output_type": "stream",
     "text": [
      "configuraiton file not found: config\n"
     ]
    }
   ],
   "source": [
    "# Sample EPIC re-ranker (trained on msmarco)\n",
    "rr = onir.pt.reranker.from_checkpoint('epic.msmarco.tar.gz', {'learning_rate': 1e-5})"
   ]
  },
  {
   "cell_type": "code",
   "execution_count": 6,
   "id": "radical-shopping",
   "metadata": {
    "scrolled": true
   },
   "outputs": [],
   "source": [
    "dataset = pt.datasets.get_dataset('irds:vaswani')\n",
    "index_path = './index_vaswani'\n",
    "if not os.path.exists(index_path):\n",
    "    indexer = pt.index.IterDictIndexer(index_path)\n",
    "    index_ref = indexer.index(dataset.get_corpus_iter(), meta=('docno', 'text'))\n",
    "else:\n",
    "    index_ref = pt.IndexRef.of(index_path + '/data.properties')\n",
    "index = pt.IndexFactory.of(index_ref)"
   ]
  },
  {
   "cell_type": "code",
   "execution_count": 7,
   "id": "fossil-crash",
   "metadata": {},
   "outputs": [],
   "source": [
    "base_pipeline = pt.BatchRetrieve(index, wmodel=\"BM25\") % 100\n",
    "res = base_pipeline.transform(dataset.get_topics())"
   ]
  },
  {
   "cell_type": "code",
   "execution_count": 8,
   "id": "humanitarian-aggregate",
   "metadata": {},
   "outputs": [
    {
     "data": {
      "text/plain": [
       "{'map': 0.2725231249761632}"
      ]
     },
     "execution_count": 8,
     "metadata": {},
     "output_type": "execute_result"
    }
   ],
   "source": [
    "pt.Utils.evaluate(res, dataset.get_qrels(), metrics = ['map'])"
   ]
  },
  {
   "cell_type": "code",
   "execution_count": 9,
   "id": "alike-inclusion",
   "metadata": {
    "scrolled": true
   },
   "outputs": [
    {
     "name": "stdout",
     "output_type": "stream",
     "text": [
      "[2021-02-21 20:53:37,937][onir.pt][DEBUG] using GPU (deterministic)\n",
      "[2021-02-21 20:53:38,029][onir.pt][DEBUG] [starting] batches\n"
     ]
    },
    {
     "data": {
      "application/vnd.jupyter.widget-view+json": {
       "model_id": "",
       "version_major": 2,
       "version_minor": 0
      },
      "text/plain": [
       "HBox(children=(IntProgress(value=0, description='batches', max=2325, style=ProgressStyle(description_width='in…"
      ]
     },
     "metadata": {},
     "output_type": "display_data"
    },
    {
     "name": "stdout",
     "output_type": "stream",
     "text": [
      "[2021-02-21 20:54:53,435][onir.pt][DEBUG] [finished] batches: [01:15] [2325it] [30.83it/s]\n"
     ]
    }
   ],
   "source": [
    "rr_pipeline = base_pipeline >> pt.text.get_text(index, \"text\") >> rr\n",
    "epic_res = rr_pipeline.transform(dataset.get_topics())"
   ]
  },
  {
   "cell_type": "code",
   "execution_count": 10,
   "id": "documented-context",
   "metadata": {},
   "outputs": [
    {
     "data": {
      "text/plain": [
       "{'map': 0.22642311752488706}"
      ]
     },
     "execution_count": 10,
     "metadata": {},
     "output_type": "execute_result"
    }
   ],
   "source": [
    "pt.Utils.evaluate(epic_res, dataset.get_qrels(), metrics = ['map'])"
   ]
  },
  {
   "cell_type": "code",
   "execution_count": 11,
   "id": "drawn-decimal",
   "metadata": {},
   "outputs": [
    {
     "name": "stdout",
     "output_type": "stream",
     "text": [
      "[2021-02-21 20:54:58,285][onir.pt][DEBUG] using GPU (deterministic)\n",
      "[2021-02-21 20:54:58,289][onir.pt][DEBUG] [starting] training\n",
      "[2021-02-21 20:54:58,291][onir.pt][DEBUG] [starting] train pairs\n"
     ]
    },
    {
     "data": {
      "application/vnd.jupyter.widget-view+json": {
       "model_id": "",
       "version_major": 2,
       "version_minor": 0
      },
      "text/plain": [
       "HBox(children=(IntProgress(value=0, description='train pairs', max=1024, style=ProgressStyle(description_width…"
      ]
     },
     "metadata": {},
     "output_type": "display_data"
    },
    {
     "name": "stdout",
     "output_type": "stream",
     "text": [
      "[2021-02-21 20:56:01,753][onir.pt][DEBUG] [finished] train pairs: [01:03] [1024it] [16.14it/s]\n",
      "[2021-02-21 20:56:01,757][onir.pt][DEBUG] [finished] training [01:03]\n",
      "[2021-02-21 20:56:01,760][onir.pt][INFO] training   it=0 loss=0.1159\n"
     ]
    }
   ],
   "source": [
    "# (over)fit 1 training iteration on the vaswani dataset\n",
    "rr_pipeline.fit(dataset.get_topics(), dataset.get_qrels())"
   ]
  },
  {
   "cell_type": "code",
   "execution_count": null,
   "id": "therapeutic-illness",
   "metadata": {},
   "outputs": [
    {
     "name": "stdout",
     "output_type": "stream",
     "text": [
      "[2021-02-21 20:56:11,299][onir.pt][DEBUG] [starting] validation\n",
      "[2021-02-21 20:56:11,302][onir.pt][DEBUG] using GPU (deterministic)\n",
      "[2021-02-21 20:56:11,308][onir.pt][DEBUG] [starting] batches\n"
     ]
    },
    {
     "data": {
      "application/vnd.jupyter.widget-view+json": {
       "model_id": "",
       "version_major": 2,
       "version_minor": 0
      },
      "text/plain": [
       "HBox(children=(IntProgress(value=0, description='batches', max=2325, style=ProgressStyle(description_width='in…"
      ]
     },
     "metadata": {},
     "output_type": "display_data"
    },
    {
     "name": "stdout",
     "output_type": "stream",
     "text": [
      "[2021-02-21 20:57:27,421][onir.pt][DEBUG] [finished] batches: [01:16] [2325it] [30.55it/s]\n",
      "[2021-02-21 20:57:27,441][onir.pt][DEBUG] [finished] validation [01:16]\n",
      "[2021-02-21 20:57:27,443][onir.pt][INFO] pre-validation: 0.3240\n",
      "[2021-02-21 20:57:27,842][onir.pt][DEBUG] using GPU (deterministic)\n",
      "[2021-02-21 20:57:27,847][onir.pt][DEBUG] [starting] training\n",
      "[2021-02-21 20:57:27,848][onir.pt][DEBUG] [starting] train pairs\n"
     ]
    },
    {
     "data": {
      "application/vnd.jupyter.widget-view+json": {
       "model_id": "7309ca6c3bd24de89873539f95333295",
       "version_major": 2,
       "version_minor": 0
      },
      "text/plain": [
       "HBox(children=(IntProgress(value=0, description='train pairs', max=1024, style=ProgressStyle(description_width…"
      ]
     },
     "metadata": {},
     "output_type": "display_data"
    }
   ],
   "source": [
    "# (over)fit many training iterations on the vaswani dataset\n",
    "rr_pipeline.fit(dataset.get_topics(), dataset.get_qrels(), dataset.get_topics(), dataset.get_qrels())"
   ]
  },
  {
   "cell_type": "code",
   "execution_count": null,
   "id": "younger-medicine",
   "metadata": {},
   "outputs": [],
   "source": [
    "# Train on a pair iterator (also works with dataframe of same columns)\n",
    "def tr_pairs():\n",
    "    import ir_datasets\n",
    "    ds = ir_datasets.load('msmarco-passage/train')\n",
    "    queries = {q.query_id: q for q in ds.queries_iter()}\n",
    "    docstore = ds.docs_store()\n",
    "    for scoreddoc in ds.docpairs_iter():\n",
    "        yield onir.pt.TrainPair(\n",
    "            scoreddoc.query_id,\n",
    "            queries[scoreddoc.query_id].text,\n",
    "            scoreddoc.doc_id_a,\n",
    "            docstore.get(scoreddoc.doc_id_a).text,\n",
    "            scoreddoc.doc_id_b,\n",
    "            docstore.get(scoreddoc.doc_id_b).text)\n",
    "rr.fit(tr_pairs=tr_pairs())"
   ]
  },
  {
   "cell_type": "code",
   "execution_count": null,
   "id": "embedded-geography",
   "metadata": {},
   "outputs": [],
   "source": []
  }
 ],
 "metadata": {
  "kernelspec": {
   "display_name": "Python 3",
   "language": "python",
   "name": "python3"
  },
  "language_info": {
   "codemirror_mode": {
    "name": "ipython",
    "version": 3
   },
   "file_extension": ".py",
   "mimetype": "text/x-python",
   "name": "python",
   "nbconvert_exporter": "python",
   "pygments_lexer": "ipython3",
   "version": "3.6.7"
  }
 },
 "nbformat": 4,
 "nbformat_minor": 5
}
